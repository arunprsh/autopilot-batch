{
 "cells": [
  {
   "cell_type": "markdown",
   "metadata": {},
   "source": [
    "## 2. Train a Model using SageMaker Autopilot"
   ]
  },
  {
   "cell_type": "markdown",
   "metadata": {},
   "source": [
    "### Imports "
   ]
  },
  {
   "cell_type": "code",
   "execution_count": 1,
   "metadata": {},
   "outputs": [],
   "source": [
    "from sagemaker import get_execution_role\n",
    "from time import gmtime, strftime\n",
    "from sagemaker import AutoML\n",
    "import pandas as pd\n",
    "import sagemaker\n",
    "import logging\n",
    "import boto3\n",
    "import time"
   ]
  },
  {
   "cell_type": "markdown",
   "metadata": {},
   "source": [
    "### Setup"
   ]
  },
  {
   "cell_type": "markdown",
   "metadata": {},
   "source": [
    "#### Setup logger"
   ]
  },
  {
   "cell_type": "code",
   "execution_count": 2,
   "metadata": {},
   "outputs": [],
   "source": [
    "logger = logging.getLogger('__name__')\n",
    "logger.setLevel(logging.DEBUG)\n",
    "logger.addHandler(logging.StreamHandler())"
   ]
  },
  {
   "cell_type": "code",
   "execution_count": 3,
   "metadata": {},
   "outputs": [
    {
     "name": "stderr",
     "output_type": "stream",
     "text": [
      "Base job name: churn-pred-2022-02-23-21-20-34\n"
     ]
    }
   ],
   "source": [
    "current_timestamp = strftime('%Y-%m-%d-%H-%M-%S', gmtime())\n",
    "base_job_name = f'churn-pred-{current_timestamp}'\n",
    "logger.info(f'Base job name: {base_job_name}')"
   ]
  },
  {
   "cell_type": "code",
   "execution_count": 4,
   "metadata": {},
   "outputs": [],
   "source": [
    "role = get_execution_role()\n",
    "session = sagemaker.Session()"
   ]
  },
  {
   "cell_type": "code",
   "execution_count": 5,
   "metadata": {},
   "outputs": [],
   "source": [
    "target_attribute_name = 'Churn?'\n",
    "input_file_local_path = './data/churn.txt'"
   ]
  },
  {
   "cell_type": "code",
   "execution_count": 6,
   "metadata": {},
   "outputs": [],
   "source": [
    "automl = AutoML(role=role, \n",
    "                target_attribute_name=target_attribute_name, \n",
    "                base_job_name=base_job_name, \n",
    "                sagemaker_session=session, \n",
    "                max_candidates=30)"
   ]
  },
  {
   "cell_type": "code",
   "execution_count": 7,
   "metadata": {},
   "outputs": [],
   "source": [
    "automl.fit(input_file_local_path, \n",
    "           job_name=base_job_name, \n",
    "           wait=False, \n",
    "           logs=False)"
   ]
  },
  {
   "cell_type": "code",
   "execution_count": null,
   "metadata": {},
   "outputs": [
    {
     "name": "stderr",
     "output_type": "stream",
     "text": [
      "Autopilot Experiment Status: InProgress - AnalyzingData\n",
      "Autopilot Experiment Status: InProgress - AnalyzingData\n",
      "Autopilot Experiment Status: InProgress - AnalyzingData\n",
      "Autopilot Experiment Status: InProgress - AnalyzingData\n",
      "Autopilot Experiment Status: InProgress - AnalyzingData\n",
      "Autopilot Experiment Status: InProgress - AnalyzingData\n",
      "Autopilot Experiment Status: InProgress - AnalyzingData\n"
     ]
    }
   ],
   "source": [
    "response = automl.describe_auto_ml_job()\n",
    "logger.info(f\"Autopilot Experiment Status: {response['AutoMLJobStatus']} - {response['AutoMLJobSecondaryStatus']}\")\n",
    "status = response['AutoMLJobStatus']\n",
    "\n",
    "while status not in ('Failed', 'Completed', 'Stopped'):\n",
    "    response = automl.describe_auto_ml_job()\n",
    "    status = response[\"AutoMLJobStatus\"]\n",
    "    logger.info(f\"Autopilot Experiment Status: {response['AutoMLJobStatus']} - {response['AutoMLJobSecondaryStatus']}\")\n",
    "    time.sleep(300)"
   ]
  },
  {
   "cell_type": "code",
   "execution_count": null,
   "metadata": {},
   "outputs": [],
   "source": []
  },
  {
   "cell_type": "code",
   "execution_count": null,
   "metadata": {},
   "outputs": [],
   "source": []
  }
 ],
 "metadata": {
  "instance_type": "ml.t3.medium",
  "kernelspec": {
   "display_name": "Python 3 (Data Science)",
   "language": "python",
   "name": "python3__SAGEMAKER_INTERNAL__arn:aws:sagemaker:us-east-1:081325390199:image/datascience-1.0"
  },
  "language_info": {
   "codemirror_mode": {
    "name": "ipython",
    "version": 3
   },
   "file_extension": ".py",
   "mimetype": "text/x-python",
   "name": "python",
   "nbconvert_exporter": "python",
   "pygments_lexer": "ipython3",
   "version": "3.7.10"
  }
 },
 "nbformat": 4,
 "nbformat_minor": 4
}
